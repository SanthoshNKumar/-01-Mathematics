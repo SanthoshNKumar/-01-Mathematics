{
 "cells": [
  {
   "cell_type": "code",
   "execution_count": 1,
   "metadata": {},
   "outputs": [],
   "source": [
    "# Hamming Distance measures the similarity between two strings of the same length. \n",
    "# The Hamming Distance between two strings of the same length is the number of positions at \n",
    "# which the corresponding characters are different"
   ]
  },
  {
   "cell_type": "code",
   "execution_count": 3,
   "metadata": {},
   "outputs": [
    {
     "name": "stdout",
     "output_type": "stream",
     "text": [
      "Hamming Distance b/w euclidean and manhattan is:  7.0\n"
     ]
    }
   ],
   "source": [
    "# Hamming Distance here will be 7. Note that larger the Hamming Distance between two strings, \n",
    "# more dissimilar will be those strings (and vice versa).\n",
    "\n",
    "# importing the library\n",
    "from scipy.spatial import distance\n",
    "\n",
    "# defining two strings\n",
    "string_1 = 'euclidean'\n",
    "string_2 = 'manhattan'\n",
    "\n",
    "hamming_distance = distance.hamming(list(string_1), list(string_2))*len(string_1)\n",
    "\n",
    "print('Hamming Distance b/w', string_1, 'and', string_2, 'is: ', hamming_distance)"
   ]
  },
  {
   "cell_type": "code",
   "execution_count": null,
   "metadata": {},
   "outputs": [],
   "source": []
  }
 ],
 "metadata": {
  "kernelspec": {
   "display_name": "Python 3",
   "language": "python",
   "name": "python3"
  },
  "language_info": {
   "codemirror_mode": {
    "name": "ipython",
    "version": 3
   },
   "file_extension": ".py",
   "mimetype": "text/x-python",
   "name": "python",
   "nbconvert_exporter": "python",
   "pygments_lexer": "ipython3",
   "version": "3.7.4"
  }
 },
 "nbformat": 4,
 "nbformat_minor": 2
}
