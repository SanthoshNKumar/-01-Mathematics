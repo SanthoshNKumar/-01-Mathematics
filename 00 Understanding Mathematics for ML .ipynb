{
 "cells": [
  {
   "cell_type": "code",
   "execution_count": null,
   "metadata": {},
   "outputs": [],
   "source": [
    "'''\n",
    "###### Calculas\n",
    "\n",
    "        1. Differentiation (Derivatives)\n",
    "            - Chain Rule\n",
    "\n",
    "        2. Integration (Inverses of derivatives)\n",
    "\n",
    "\n",
    "###### Geometry\n",
    "\n",
    "        1. Distance Formula\n",
    "        \n",
    "            1. Euclidean distance\n",
    "            2. Manhattan distance \n",
    "            3. Minkowski\n",
    "            4. Hamming\n",
    "            5. Cosine Similarity\n",
    "            6. L2 and L1 Norm\n",
    "\n",
    "###### Linear Algebra\n",
    "\n",
    "        1. Equation for Stright Line\n",
    "        2. Scalar\n",
    "        3. Vector\n",
    "        4. Matrix\n",
    "        5. Eigen Vector and Values\n",
    "\n",
    "###### Trignometry\n",
    "\n",
    "        1. Right angle Traiangle\n",
    "        2. Sine,Cosine, and Tangent\n",
    "\n",
    "###### Probability\n",
    "        1. Venn Diagram\n",
    "        2. Probability Events\n",
    "        3. Independent Events\n",
    "        4. Dependent Probability\n",
    "        5. Conditional Probability\n",
    "        5. Union\n",
    "        6. Intersection\n",
    "        7. Bayes Theorem\n",
    "        8. PDF (Probability Density Function)\n",
    "        9. CDF (Cumulative Distribution Function)"
   ]
  }
 ],
 "metadata": {
  "kernelspec": {
   "display_name": "Python 3",
   "language": "python",
   "name": "python3"
  },
  "language_info": {
   "codemirror_mode": {
    "name": "ipython",
    "version": 3
   },
   "file_extension": ".py",
   "mimetype": "text/x-python",
   "name": "python",
   "nbconvert_exporter": "python",
   "pygments_lexer": "ipython3",
   "version": "3.7.4"
  }
 },
 "nbformat": 4,
 "nbformat_minor": 2
}
